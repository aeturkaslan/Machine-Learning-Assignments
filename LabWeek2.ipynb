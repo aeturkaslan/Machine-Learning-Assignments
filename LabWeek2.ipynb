{
 "cells": [
  {
   "cell_type": "code",
   "execution_count": 2,
   "id": "dfd6736f",
   "metadata": {},
   "outputs": [],
   "source": [
    "import numpy as np"
   ]
  },
  {
   "cell_type": "code",
   "execution_count": 3,
   "id": "050e2539",
   "metadata": {},
   "outputs": [
    {
     "name": "stdout",
     "output_type": "stream",
     "text": [
      "[1 3 5]\n"
     ]
    }
   ],
   "source": [
    "array = np.array([1,3,5])\n",
    "print(array)"
   ]
  },
  {
   "cell_type": "code",
   "execution_count": 4,
   "id": "a519c050",
   "metadata": {},
   "outputs": [
    {
     "data": {
      "text/plain": [
       "(3,)"
      ]
     },
     "execution_count": 4,
     "metadata": {},
     "output_type": "execute_result"
    }
   ],
   "source": [
    "#Number of row and columns\n",
    "array.shape "
   ]
  },
  {
   "cell_type": "code",
   "execution_count": 5,
   "id": "9434fa39",
   "metadata": {},
   "outputs": [
    {
     "data": {
      "text/plain": [
       "array([[ 1,  5,  8],\n",
       "       [ 2, 11, 15],\n",
       "       [21, 18,  4],\n",
       "       [20, 51, 37]])"
      ]
     },
     "execution_count": 5,
     "metadata": {},
     "output_type": "execute_result"
    }
   ],
   "source": [
    "array1 = np.array([1, 5, 8, 2, 11, 15, 21, 18, 4, 20, 51, 37])\n",
    "array1.reshape(4,3)"
   ]
  },
  {
   "cell_type": "code",
   "execution_count": 6,
   "id": "12df5104",
   "metadata": {},
   "outputs": [
    {
     "data": {
      "text/plain": [
       "1"
      ]
     },
     "execution_count": 6,
     "metadata": {},
     "output_type": "execute_result"
    }
   ],
   "source": [
    "array1.ndim"
   ]
  },
  {
   "cell_type": "code",
   "execution_count": 7,
   "id": "ac94ab0d",
   "metadata": {},
   "outputs": [
    {
     "data": {
      "text/plain": [
       "'int32'"
      ]
     },
     "execution_count": 7,
     "metadata": {},
     "output_type": "execute_result"
    }
   ],
   "source": [
    "array1.dtype.name"
   ]
  },
  {
   "cell_type": "code",
   "execution_count": 8,
   "id": "160b716a",
   "metadata": {},
   "outputs": [
    {
     "data": {
      "text/plain": [
       "12"
      ]
     },
     "execution_count": 8,
     "metadata": {},
     "output_type": "execute_result"
    }
   ],
   "source": [
    "#number of elements in array\n",
    "array1.size"
   ]
  },
  {
   "cell_type": "code",
   "execution_count": 9,
   "id": "22050605",
   "metadata": {},
   "outputs": [
    {
     "data": {
      "text/plain": [
       "numpy.ndarray"
      ]
     },
     "execution_count": 9,
     "metadata": {},
     "output_type": "execute_result"
    }
   ],
   "source": [
    "type(array1)"
   ]
  },
  {
   "cell_type": "code",
   "execution_count": 10,
   "id": "05851446",
   "metadata": {},
   "outputs": [
    {
     "data": {
      "text/plain": [
       "array([[ 1,  5,  8],\n",
       "       [ 2, 11, 15],\n",
       "       [21, 18,  4],\n",
       "       [20, 51, 37]])"
      ]
     },
     "execution_count": 10,
     "metadata": {},
     "output_type": "execute_result"
    }
   ],
   "source": [
    "#without reshape\n",
    "array1 = np.array([[ 1,  5,  8],[ 2, 11, 15],[21, 18,  4], [20, 51, 37]])\n",
    "array1"
   ]
  },
  {
   "cell_type": "code",
   "execution_count": 11,
   "id": "38d4c685",
   "metadata": {},
   "outputs": [
    {
     "data": {
      "text/plain": [
       "array([[1., 1., 1., 1., 1.],\n",
       "       [1., 1., 1., 1., 1.],\n",
       "       [1., 1., 1., 1., 1.],\n",
       "       [1., 1., 1., 1., 1.],\n",
       "       [1., 1., 1., 1., 1.]])"
      ]
     },
     "execution_count": 11,
     "metadata": {},
     "output_type": "execute_result"
    }
   ],
   "source": [
    "#fill with 1s\n",
    "ones = np.ones((5,5))\n",
    "ones"
   ]
  },
  {
   "cell_type": "code",
   "execution_count": 12,
   "id": "95fb47af",
   "metadata": {},
   "outputs": [
    {
     "data": {
      "text/plain": [
       "array([[0., 0.],\n",
       "       [0., 0.],\n",
       "       [0., 0.],\n",
       "       [0., 0.],\n",
       "       [0., 0.]])"
      ]
     },
     "execution_count": 12,
     "metadata": {},
     "output_type": "execute_result"
    }
   ],
   "source": [
    "#fill with 0s\n",
    "zeros = np.zeros((5,2))\n",
    "zeros"
   ]
  },
  {
   "cell_type": "code",
   "execution_count": 13,
   "id": "38261ed8",
   "metadata": {},
   "outputs": [
    {
     "data": {
      "text/plain": [
       "array([[0., 0.],\n",
       "       [0., 0.],\n",
       "       [0., 0.]])"
      ]
     },
     "execution_count": 13,
     "metadata": {},
     "output_type": "execute_result"
    }
   ],
   "source": [
    "#create an empty matrix\n",
    "np.empty((3,2))"
   ]
  },
  {
   "cell_type": "code",
   "execution_count": 14,
   "id": "eb8448fa",
   "metadata": {},
   "outputs": [
    {
     "data": {
      "text/plain": [
       "array([35, 47, 59, 71, 83])"
      ]
     },
     "execution_count": 14,
     "metadata": {},
     "output_type": "execute_result"
    }
   ],
   "source": [
    "#from 35 to 95, increased by 12\n",
    "np.arange(35,95,12)"
   ]
  },
  {
   "cell_type": "code",
   "execution_count": 15,
   "id": "1ca814cc",
   "metadata": {},
   "outputs": [
    {
     "data": {
      "text/plain": [
       "array([ 1.        ,  1.92857143,  2.85714286,  3.78571429,  4.71428571,\n",
       "        5.64285714,  6.57142857,  7.5       ,  8.42857143,  9.35714286,\n",
       "       10.28571429, 11.21428571, 12.14285714, 13.07142857, 14.        ])"
      ]
     },
     "execution_count": 15,
     "metadata": {},
     "output_type": "execute_result"
    }
   ],
   "source": [
    "b = np.linspace(1,14,15)\n",
    "b"
   ]
  },
  {
   "cell_type": "code",
   "execution_count": 16,
   "id": "ea37add5",
   "metadata": {},
   "outputs": [
    {
     "name": "stdout",
     "output_type": "stream",
     "text": [
      "[ 3 10 13]\n"
     ]
    }
   ],
   "source": [
    "a = np.array([2,7,8])\n",
    "b = np.array([1,3,5])\n",
    "print(a+b)"
   ]
  },
  {
   "cell_type": "code",
   "execution_count": 17,
   "id": "ee2eda56",
   "metadata": {},
   "outputs": [
    {
     "name": "stdout",
     "output_type": "stream",
     "text": [
      "[1 4 3]\n"
     ]
    }
   ],
   "source": [
    "print(a-b)"
   ]
  },
  {
   "cell_type": "code",
   "execution_count": 18,
   "id": "bb3ef815",
   "metadata": {},
   "outputs": [
    {
     "name": "stdout",
     "output_type": "stream",
     "text": [
      "[ 2 21 40]\n"
     ]
    }
   ],
   "source": [
    "print(a*b)"
   ]
  },
  {
   "cell_type": "code",
   "execution_count": 19,
   "id": "b1243a86",
   "metadata": {},
   "outputs": [
    {
     "name": "stdout",
     "output_type": "stream",
     "text": [
      "[1, 2, 4, 8]\n",
      "[2 5 3 7]\n"
     ]
    }
   ],
   "source": [
    "liste = [1,2,4,8]\n",
    "array=np.array([2,5,3,7])\n",
    "print(liste)\n",
    "print(array)"
   ]
  },
  {
   "cell_type": "code",
   "execution_count": 20,
   "id": "ea6e6b50",
   "metadata": {},
   "outputs": [
    {
     "data": {
      "text/plain": [
       "array([1, 2, 4, 8])"
      ]
     },
     "execution_count": 20,
     "metadata": {},
     "output_type": "execute_result"
    }
   ],
   "source": [
    "#listeyi array'e dönüştürme\n",
    "array = np.array(liste)\n",
    "array"
   ]
  },
  {
   "cell_type": "code",
   "execution_count": 21,
   "id": "de9edf06",
   "metadata": {},
   "outputs": [
    {
     "name": "stdout",
     "output_type": "stream",
     "text": [
      "[2 5 8] [2 5 8] [2 5 8]\n"
     ]
    }
   ],
   "source": [
    "b=a\n",
    "c=a\n",
    "b[1]=5\n",
    "print(a,b,c)"
   ]
  },
  {
   "cell_type": "code",
   "execution_count": 22,
   "id": "73f9f331",
   "metadata": {},
   "outputs": [
    {
     "data": {
      "text/plain": [
       "array([2, 5, 8])"
      ]
     },
     "execution_count": 22,
     "metadata": {},
     "output_type": "execute_result"
    }
   ],
   "source": [
    "d=a.copy()\n",
    "d"
   ]
  },
  {
   "cell_type": "code",
   "execution_count": 23,
   "id": "e10989aa",
   "metadata": {},
   "outputs": [],
   "source": [
    "a[1]=5"
   ]
  },
  {
   "cell_type": "code",
   "execution_count": 24,
   "id": "fa38262a",
   "metadata": {},
   "outputs": [
    {
     "data": {
      "text/plain": [
       "array([2, 5, 8])"
      ]
     },
     "execution_count": 24,
     "metadata": {},
     "output_type": "execute_result"
    }
   ],
   "source": [
    "#kopyaladığımız için değişiklik olmayacak.\n",
    "d"
   ]
  },
  {
   "cell_type": "code",
   "execution_count": 25,
   "id": "78b75452",
   "metadata": {},
   "outputs": [
    {
     "name": "stdout",
     "output_type": "stream",
     "text": [
      "5\n"
     ]
    }
   ],
   "source": [
    "print(a[1])"
   ]
  },
  {
   "cell_type": "code",
   "execution_count": 26,
   "id": "ae997c13",
   "metadata": {},
   "outputs": [
    {
     "name": "stdout",
     "output_type": "stream",
     "text": [
      "[2 5 8]\n"
     ]
    }
   ],
   "source": [
    "# a'nın 0. indisinden 3.ye kadar yazdır\n",
    "print(a[0:3])"
   ]
  },
  {
   "cell_type": "code",
   "execution_count": 27,
   "id": "414c5769",
   "metadata": {},
   "outputs": [
    {
     "data": {
      "text/plain": [
       "array([8, 5, 2])"
      ]
     },
     "execution_count": 27,
     "metadata": {},
     "output_type": "execute_result"
    }
   ],
   "source": [
    "# reverse array\n",
    "a[::-1]"
   ]
  },
  {
   "cell_type": "code",
   "execution_count": 28,
   "id": "f3b0efc7",
   "metadata": {},
   "outputs": [
    {
     "data": {
      "text/plain": [
       "array([[ 1,  2,  3,  4,  5],\n",
       "       [ 6,  7,  8,  9, 10]])"
      ]
     },
     "execution_count": 28,
     "metadata": {},
     "output_type": "execute_result"
    }
   ],
   "source": [
    "b = np.array([[1,2,3,4,5],[6,7,8,9,10]])\n",
    "b"
   ]
  },
  {
   "cell_type": "code",
   "execution_count": 29,
   "id": "69500743",
   "metadata": {},
   "outputs": [
    {
     "name": "stdout",
     "output_type": "stream",
     "text": [
      "8\n"
     ]
    }
   ],
   "source": [
    "# 1. satır 2. sütundakini yazdır\n",
    "print(b[1,2])"
   ]
  },
  {
   "cell_type": "code",
   "execution_count": 30,
   "id": "bce7fd58",
   "metadata": {},
   "outputs": [
    {
     "name": "stdout",
     "output_type": "stream",
     "text": [
      "[2 7]\n"
     ]
    }
   ],
   "source": [
    "# 1.sütundaki her şeyi yazdır\n",
    "print(b[:,1])"
   ]
  },
  {
   "cell_type": "code",
   "execution_count": 31,
   "id": "124052d8",
   "metadata": {},
   "outputs": [
    {
     "name": "stdout",
     "output_type": "stream",
     "text": [
      "[ 6  7  8  9 10]\n"
     ]
    }
   ],
   "source": [
    "# 1.satırdaki her şeyi yazdır\n",
    "print(b[1,:])"
   ]
  },
  {
   "cell_type": "code",
   "execution_count": 32,
   "id": "7b903a4e",
   "metadata": {},
   "outputs": [
    {
     "name": "stdout",
     "output_type": "stream",
     "text": [
      "[6 7]\n"
     ]
    }
   ],
   "source": [
    "# 1.satır 0. indisten 2.'ye kadar\n",
    "print(b[1,0:2])"
   ]
  },
  {
   "cell_type": "code",
   "execution_count": 33,
   "id": "732272ff",
   "metadata": {},
   "outputs": [
    {
     "data": {
      "text/plain": [
       "array([ 6,  7,  8,  9, 10])"
      ]
     },
     "execution_count": 33,
     "metadata": {},
     "output_type": "execute_result"
    }
   ],
   "source": [
    "# en son satırı yazdır\n",
    "b[-1,:]"
   ]
  },
  {
   "cell_type": "code",
   "execution_count": 34,
   "id": "fc570e06",
   "metadata": {},
   "outputs": [
    {
     "data": {
      "text/plain": [
       "array([ 5, 10])"
      ]
     },
     "execution_count": 34,
     "metadata": {},
     "output_type": "execute_result"
    }
   ],
   "source": [
    "# en son sütünu yazdır\n",
    "b[:,-1]"
   ]
  },
  {
   "cell_type": "code",
   "execution_count": 35,
   "id": "3dea6138",
   "metadata": {},
   "outputs": [
    {
     "data": {
      "text/plain": [
       "array([[1, 2, 3],\n",
       "       [4, 5, 6],\n",
       "       [7, 8, 9]])"
      ]
     },
     "execution_count": 35,
     "metadata": {},
     "output_type": "execute_result"
    }
   ],
   "source": [
    "a = np.array([[1,2,3],[4,5,6],[7,8,9]])\n",
    "a"
   ]
  },
  {
   "cell_type": "code",
   "execution_count": 36,
   "id": "73dc41bb",
   "metadata": {},
   "outputs": [
    {
     "data": {
      "text/plain": [
       "array([1, 2, 3, 4, 5, 6, 7, 8, 9])"
      ]
     },
     "execution_count": 36,
     "metadata": {},
     "output_type": "execute_result"
    }
   ],
   "source": [
    "#çok boyutlu matrisi tek boyutluya dönüştürme\n",
    "b=a.ravel()\n",
    "b"
   ]
  },
  {
   "cell_type": "code",
   "execution_count": 37,
   "id": "0b58080b",
   "metadata": {},
   "outputs": [
    {
     "data": {
      "text/plain": [
       "array([[1, 2, 3],\n",
       "       [4, 5, 6],\n",
       "       [7, 8, 9]])"
      ]
     },
     "execution_count": 37,
     "metadata": {},
     "output_type": "execute_result"
    }
   ],
   "source": [
    "# reshape ile boyutlandırma\n",
    "b.reshape(3,3)"
   ]
  },
  {
   "cell_type": "code",
   "execution_count": 38,
   "id": "ffe86cba",
   "metadata": {},
   "outputs": [
    {
     "data": {
      "text/plain": [
       "array([1, 2, 3, 4, 5, 6, 7, 8, 9])"
      ]
     },
     "execution_count": 38,
     "metadata": {},
     "output_type": "execute_result"
    }
   ],
   "source": [
    "b"
   ]
  },
  {
   "cell_type": "code",
   "execution_count": 39,
   "id": "ae3c3bb7",
   "metadata": {},
   "outputs": [],
   "source": [
    "b.resize(3,3)"
   ]
  },
  {
   "cell_type": "code",
   "execution_count": 40,
   "id": "323e490a",
   "metadata": {},
   "outputs": [
    {
     "data": {
      "text/plain": [
       "array([[1, 2, 3],\n",
       "       [4, 5, 6],\n",
       "       [7, 8, 9]])"
      ]
     },
     "execution_count": 40,
     "metadata": {},
     "output_type": "execute_result"
    }
   ],
   "source": [
    "b"
   ]
  },
  {
   "cell_type": "code",
   "execution_count": 41,
   "id": "8e37079b",
   "metadata": {},
   "outputs": [
    {
     "data": {
      "text/plain": [
       "(8, 9, 13)"
      ]
     },
     "execution_count": 41,
     "metadata": {},
     "output_type": "execute_result"
    }
   ],
   "source": [
    "a = (2,8,9,13)\n",
    "\n",
    "a[1:4]"
   ]
  },
  {
   "cell_type": "code",
   "execution_count": 42,
   "id": "fd7a41e5",
   "metadata": {},
   "outputs": [
    {
     "name": "stdout",
     "output_type": "stream",
     "text": [
      "    name   age   note\n",
      "0   berk  22.0  322.0\n",
      "1   umut  27.0  191.0\n",
      "2   ayse  19.0    NaN\n",
      "3   mert  24.0   37.0\n",
      "4  gizem  29.0   44.0\n",
      "5    naz   NaN  101.0\n"
     ]
    }
   ],
   "source": [
    "#importing the Pandas library.\n",
    "\n",
    "import pandas as pd\n",
    "\n",
    "dictionary = {\"name\":[\"berk\",\"umut\",\"ayse\",\"mert\",\"gizem\",\"naz\"],\n",
    "             \"age\":[22,27,19,24,29,None],\n",
    "             \"note\":[322,191,None,37,44,101]}\n",
    "\n",
    "dataframe1 = pd.DataFrame(dictionary) \n",
    "print(dataframe1)"
   ]
  },
  {
   "cell_type": "code",
   "execution_count": 43,
   "id": "3b34bc41",
   "metadata": {},
   "outputs": [
    {
     "name": "stdout",
     "output_type": "stream",
     "text": [
      "    name   age   note\n",
      "0   berk  22.0  322.0\n",
      "1   umut  27.0  191.0\n",
      "2   ayse  19.0    NaN\n",
      "3   mert  24.0   37.0\n",
      "4  gizem  29.0   44.0\n"
     ]
    }
   ],
   "source": [
    "head = dataframe1.head() \n",
    "print(head)"
   ]
  },
  {
   "cell_type": "code",
   "execution_count": 44,
   "id": "f512dcf8",
   "metadata": {},
   "outputs": [
    {
     "name": "stdout",
     "output_type": "stream",
     "text": [
      "    name   age   note\n",
      "1   umut  27.0  191.0\n",
      "2   ayse  19.0    NaN\n",
      "3   mert  24.0   37.0\n",
      "4  gizem  29.0   44.0\n",
      "5    naz   NaN  101.0\n"
     ]
    }
   ],
   "source": [
    "tail = dataframe1.tail()\n",
    "print(tail)"
   ]
  },
  {
   "cell_type": "code",
   "execution_count": 45,
   "id": "46b02ab6",
   "metadata": {},
   "outputs": [
    {
     "name": "stdout",
     "output_type": "stream",
     "text": [
      "Index(['name', 'age', 'note'], dtype='object')\n"
     ]
    }
   ],
   "source": [
    "# column names\n",
    "print(dataframe1.columns) "
   ]
  },
  {
   "cell_type": "code",
   "execution_count": 46,
   "id": "37b087d9",
   "metadata": {},
   "outputs": [
    {
     "name": "stdout",
     "output_type": "stream",
     "text": [
      "<class 'pandas.core.frame.DataFrame'>\n",
      "RangeIndex: 6 entries, 0 to 5\n",
      "Data columns (total 3 columns):\n",
      " #   Column  Non-Null Count  Dtype  \n",
      "---  ------  --------------  -----  \n",
      " 0   name    6 non-null      object \n",
      " 1   age     5 non-null      float64\n",
      " 2   note    5 non-null      float64\n",
      "dtypes: float64(2), object(1)\n",
      "memory usage: 272.0+ bytes\n",
      "None\n"
     ]
    }
   ],
   "source": [
    "#dataframe bilgisi\n",
    "print(dataframe1.info())"
   ]
  },
  {
   "cell_type": "code",
   "execution_count": 47,
   "id": "ca55ee1d",
   "metadata": {},
   "outputs": [
    {
     "name": "stdout",
     "output_type": "stream",
     "text": [
      "name     object\n",
      "age     float64\n",
      "note    float64\n",
      "dtype: object\n"
     ]
    }
   ],
   "source": [
    "#dataframe column types\n",
    "print(dataframe1.dtypes)"
   ]
  },
  {
   "cell_type": "code",
   "execution_count": 48,
   "id": "b43963e4",
   "metadata": {},
   "outputs": [
    {
     "name": "stdout",
     "output_type": "stream",
     "text": [
      "             age        note\n",
      "count   5.000000    5.000000\n",
      "mean   24.200000  139.000000\n",
      "std     3.962323  119.442455\n",
      "min    19.000000   37.000000\n",
      "25%    22.000000   44.000000\n",
      "50%    24.000000  101.000000\n",
      "75%    27.000000  191.000000\n",
      "max    29.000000  322.000000\n"
     ]
    }
   ],
   "source": [
    "print(dataframe1.describe()) "
   ]
  },
  {
   "cell_type": "code",
   "execution_count": 49,
   "id": "aba07a9f",
   "metadata": {},
   "outputs": [
    {
     "name": "stdout",
     "output_type": "stream",
     "text": [
      "0     berk\n",
      "1     umut\n",
      "2     ayse\n",
      "3     mert\n",
      "4    gizem\n",
      "5      naz\n",
      "Name: name, dtype: object\n",
      "0    22.0\n",
      "1    27.0\n",
      "2    19.0\n",
      "3    24.0\n",
      "4    29.0\n",
      "5     NaN\n",
      "Name: age, dtype: float64\n",
      "0    22.0\n",
      "1    27.0\n",
      "2    19.0\n",
      "3    24.0\n",
      "Name: age, dtype: float64\n",
      "   name   age   note\n",
      "0  berk  22.0  322.0\n",
      "1  umut  27.0  191.0\n",
      "2  ayse  19.0    NaN\n",
      "3  mert  24.0   37.0\n",
      "    name   age   note  yeni_future\n",
      "5    naz   NaN  101.0            6\n",
      "4  gizem  29.0   44.0            5\n",
      "3   mert  24.0   37.0            4\n",
      "2   ayse  19.0    NaN            3\n",
      "1   umut  27.0  191.0            2\n",
      "0   berk  22.0  322.0            1\n"
     ]
    }
   ],
   "source": [
    "print(dataframe1[\"name\"]) \n",
    "print(dataframe1.loc[:, \"age\"])                      # sadece isimleri döndürür\n",
    "dataframe1[\"yeni_future\"] = [1,2,3,4,5,6]            # yeni column\n",
    "print(dataframe1.loc[:3,\"age\"]) \n",
    "print(dataframe1.loc[:3, \"name\":\"note\"])             # name den note'a kadar columnların 3. satırına kadar yazdır\n",
    "print(dataframe1.loc[::-1])                          # tersten\n"
   ]
  },
  {
   "cell_type": "code",
   "execution_count": 50,
   "id": "faa1df75",
   "metadata": {},
   "outputs": [
    {
     "name": "stdout",
     "output_type": "stream",
     "text": [
      "0    1\n",
      "1    2\n",
      "2    3\n",
      "3    4\n",
      "4    5\n",
      "5    6\n",
      "Name: yeni_future, dtype: int64\n"
     ]
    }
   ],
   "source": [
    "print(dataframe1.yeni_future)"
   ]
  },
  {
   "cell_type": "code",
   "execution_count": 51,
   "id": "2ef1de6f",
   "metadata": {},
   "outputs": [
    {
     "name": "stdout",
     "output_type": "stream",
     "text": [
      "0    22.0\n",
      "1    27.0\n",
      "2    19.0\n",
      "3    24.0\n",
      "4    29.0\n",
      "5     NaN\n",
      "Name: age, dtype: float64\n"
     ]
    }
   ],
   "source": [
    "print(dataframe1.loc[:, \"age\"]) # sütunları döndürür bu da"
   ]
  },
  {
   "cell_type": "code",
   "execution_count": 52,
   "id": "3a7ae97f",
   "metadata": {},
   "outputs": [
    {
     "name": "stdout",
     "output_type": "stream",
     "text": [
      "0    22.0\n",
      "1    27.0\n",
      "2    19.0\n",
      "3    24.0\n",
      "4    29.0\n",
      "Name: age, dtype: float64\n"
     ]
    }
   ],
   "source": [
    "print(dataframe1.loc[:4,\"age\"]) "
   ]
  },
  {
   "cell_type": "code",
   "execution_count": 53,
   "id": "ffa132cb",
   "metadata": {},
   "outputs": [
    {
     "name": "stdout",
     "output_type": "stream",
     "text": [
      "   name   age   note\n",
      "0  berk  22.0  322.0\n",
      "1  umut  27.0  191.0\n",
      "2  ayse  19.0    NaN\n",
      "3  mert  24.0   37.0\n"
     ]
    }
   ],
   "source": [
    "print(dataframe1.loc[:3, \"name\":\"note\"])"
   ]
  },
  {
   "cell_type": "code",
   "execution_count": 54,
   "id": "f0141d4d",
   "metadata": {},
   "outputs": [
    {
     "name": "stdout",
     "output_type": "stream",
     "text": [
      "    name   age   note  yeni_future\n",
      "5    naz   NaN  101.0            6\n",
      "4  gizem  29.0   44.0            5\n",
      "3   mert  24.0   37.0            4\n",
      "2   ayse  19.0    NaN            3\n",
      "1   umut  27.0  191.0            2\n",
      "0   berk  22.0  322.0            1\n"
     ]
    }
   ],
   "source": [
    "print(dataframe1.loc[::-1])"
   ]
  },
  {
   "cell_type": "code",
   "execution_count": 55,
   "id": "908cfd9d",
   "metadata": {},
   "outputs": [
    {
     "name": "stdout",
     "output_type": "stream",
     "text": [
      "    name   age\n",
      "0   berk  22.0\n",
      "1   umut  27.0\n",
      "2   ayse  19.0\n",
      "3   mert  24.0\n",
      "4  gizem  29.0\n",
      "5    naz   NaN\n"
     ]
    }
   ],
   "source": [
    "#age'e kadar olan sütunların tüm satırları\n",
    "print(dataframe1.loc[:,:\"age\"])"
   ]
  },
  {
   "cell_type": "code",
   "execution_count": 57,
   "id": "8be7f863",
   "metadata": {},
   "outputs": [
    {
     "name": "stdout",
     "output_type": "stream",
     "text": [
      "   yeni_future\n",
      "0            1\n",
      "1            2\n",
      "2            3\n",
      "3            4\n",
      "4            5\n",
      "5            6\n"
     ]
    }
   ],
   "source": [
    "print(dataframe1.iloc[:,[3]]) "
   ]
  },
  {
   "cell_type": "code",
   "execution_count": 58,
   "id": "4a569032",
   "metadata": {},
   "outputs": [
    {
     "name": "stdout",
     "output_type": "stream",
     "text": [
      "    age   bool\n",
      "0  22.0   True\n",
      "1  27.0   True\n",
      "2  19.0   True\n",
      "3  24.0   True\n",
      "4  29.0   True\n",
      "5   NaN  False\n"
     ]
    }
   ],
   "source": [
    "# yaşı 10'dan büyük olanlar true döndürür. \n",
    "filtre1 = dataframe1.age > 10                           \n",
    "dataframe1[\"bool\"]= filtre1\n",
    "print(dataframe1.loc[:,[\"age\",\"bool\"]])"
   ]
  },
  {
   "cell_type": "code",
   "execution_count": 59,
   "id": "a539933b",
   "metadata": {},
   "outputs": [
    {
     "data": {
      "text/plain": [
       "pandas.core.series.Series"
      ]
     },
     "execution_count": 59,
     "metadata": {},
     "output_type": "execute_result"
    }
   ],
   "source": [
    "type(filtre1)"
   ]
  },
  {
   "cell_type": "code",
   "execution_count": 60,
   "id": "149d5e5b",
   "metadata": {},
   "outputs": [
    {
     "name": "stdout",
     "output_type": "stream",
     "text": [
      "    name   age   note  yeni_future  bool\n",
      "0   berk  22.0  322.0            1  True\n",
      "1   umut  27.0  191.0            2  True\n",
      "2   ayse  19.0    NaN            3  True\n",
      "3   mert  24.0   37.0            4  True\n",
      "4  gizem  29.0   44.0            5  True\n"
     ]
    }
   ],
   "source": [
    "filtrelenmis_data= dataframe1[filtre1]\n",
    "print(filtrelenmis_data)\n",
    "#filtreye göre döndürür"
   ]
  },
  {
   "cell_type": "code",
   "execution_count": 61,
   "id": "739b4690",
   "metadata": {},
   "outputs": [
    {
     "name": "stdout",
     "output_type": "stream",
     "text": [
      "   name   age   note  yeni_future  bool\n",
      "0  berk  22.0  322.0            1  True\n",
      "1  umut  27.0  191.0            2  True\n"
     ]
    }
   ],
   "source": [
    "filtre2 = dataframe1.note>100\n",
    "filtrelenmis_data2 = dataframe1[filtre2&filtre1] \n",
    "print(filtrelenmis_data2)\n",
    "# 2 filtreyi birden karşılayanları döndürür."
   ]
  },
  {
   "cell_type": "code",
   "execution_count": 62,
   "id": "9e2d8904",
   "metadata": {},
   "outputs": [
    {
     "data": {
      "text/html": [
       "<div>\n",
       "<style scoped>\n",
       "    .dataframe tbody tr th:only-of-type {\n",
       "        vertical-align: middle;\n",
       "    }\n",
       "\n",
       "    .dataframe tbody tr th {\n",
       "        vertical-align: top;\n",
       "    }\n",
       "\n",
       "    .dataframe thead th {\n",
       "        text-align: right;\n",
       "    }\n",
       "</style>\n",
       "<table border=\"1\" class=\"dataframe\">\n",
       "  <thead>\n",
       "    <tr style=\"text-align: right;\">\n",
       "      <th></th>\n",
       "      <th>name</th>\n",
       "      <th>age</th>\n",
       "      <th>note</th>\n",
       "      <th>yeni_future</th>\n",
       "      <th>bool</th>\n",
       "    </tr>\n",
       "  </thead>\n",
       "  <tbody>\n",
       "    <tr>\n",
       "      <th>0</th>\n",
       "      <td>berk</td>\n",
       "      <td>22.0</td>\n",
       "      <td>322.0</td>\n",
       "      <td>1</td>\n",
       "      <td>True</td>\n",
       "    </tr>\n",
       "    <tr>\n",
       "      <th>1</th>\n",
       "      <td>umut</td>\n",
       "      <td>27.0</td>\n",
       "      <td>191.0</td>\n",
       "      <td>2</td>\n",
       "      <td>True</td>\n",
       "    </tr>\n",
       "    <tr>\n",
       "      <th>3</th>\n",
       "      <td>mert</td>\n",
       "      <td>24.0</td>\n",
       "      <td>37.0</td>\n",
       "      <td>4</td>\n",
       "      <td>True</td>\n",
       "    </tr>\n",
       "    <tr>\n",
       "      <th>4</th>\n",
       "      <td>gizem</td>\n",
       "      <td>29.0</td>\n",
       "      <td>44.0</td>\n",
       "      <td>5</td>\n",
       "      <td>True</td>\n",
       "    </tr>\n",
       "  </tbody>\n",
       "</table>\n",
       "</div>"
      ],
      "text/plain": [
       "    name   age   note  yeni_future  bool\n",
       "0   berk  22.0  322.0            1  True\n",
       "1   umut  27.0  191.0            2  True\n",
       "3   mert  24.0   37.0            4  True\n",
       "4  gizem  29.0   44.0            5  True"
      ]
     },
     "execution_count": 62,
     "metadata": {},
     "output_type": "execute_result"
    }
   ],
   "source": [
    "# yine filtreleme\n",
    "dataframe1[dataframe1.age > 20]"
   ]
  },
  {
   "cell_type": "code",
   "execution_count": 63,
   "id": "9fbd85d9",
   "metadata": {},
   "outputs": [
    {
     "name": "stdout",
     "output_type": "stream",
     "text": [
      "139.0\n",
      "139.0\n"
     ]
    }
   ],
   "source": [
    "import numpy as np\n",
    "ortalama = dataframe1.note.mean() #pandas ile ortalama hesaplama\n",
    "print(ortalama)\n",
    "ortlama_np= np.mean(dataframe1.note) #numpy ile ortalama hesaplama\n",
    "print(ortlama_np)"
   ]
  },
  {
   "cell_type": "code",
   "execution_count": 64,
   "id": "f044a121",
   "metadata": {},
   "outputs": [
    {
     "data": {
      "text/html": [
       "<div>\n",
       "<style scoped>\n",
       "    .dataframe tbody tr th:only-of-type {\n",
       "        vertical-align: middle;\n",
       "    }\n",
       "\n",
       "    .dataframe tbody tr th {\n",
       "        vertical-align: top;\n",
       "    }\n",
       "\n",
       "    .dataframe thead th {\n",
       "        text-align: right;\n",
       "    }\n",
       "</style>\n",
       "<table border=\"1\" class=\"dataframe\">\n",
       "  <thead>\n",
       "    <tr style=\"text-align: right;\">\n",
       "      <th></th>\n",
       "      <th>name</th>\n",
       "      <th>age</th>\n",
       "      <th>note</th>\n",
       "      <th>yeni_future</th>\n",
       "      <th>bool</th>\n",
       "    </tr>\n",
       "  </thead>\n",
       "  <tbody>\n",
       "    <tr>\n",
       "      <th>0</th>\n",
       "      <td>berk</td>\n",
       "      <td>22.0</td>\n",
       "      <td>322.0</td>\n",
       "      <td>1</td>\n",
       "      <td>True</td>\n",
       "    </tr>\n",
       "    <tr>\n",
       "      <th>1</th>\n",
       "      <td>umut</td>\n",
       "      <td>27.0</td>\n",
       "      <td>191.0</td>\n",
       "      <td>2</td>\n",
       "      <td>True</td>\n",
       "    </tr>\n",
       "    <tr>\n",
       "      <th>3</th>\n",
       "      <td>mert</td>\n",
       "      <td>24.0</td>\n",
       "      <td>37.0</td>\n",
       "      <td>4</td>\n",
       "      <td>True</td>\n",
       "    </tr>\n",
       "    <tr>\n",
       "      <th>4</th>\n",
       "      <td>gizem</td>\n",
       "      <td>29.0</td>\n",
       "      <td>44.0</td>\n",
       "      <td>5</td>\n",
       "      <td>True</td>\n",
       "    </tr>\n",
       "  </tbody>\n",
       "</table>\n",
       "</div>"
      ],
      "text/plain": [
       "    name   age   note  yeni_future  bool\n",
       "0   berk  22.0  322.0            1  True\n",
       "1   umut  27.0  191.0            2  True\n",
       "3   mert  24.0   37.0            4  True\n",
       "4  gizem  29.0   44.0            5  True"
      ]
     },
     "execution_count": 64,
     "metadata": {},
     "output_type": "execute_result"
    }
   ],
   "source": [
    "dataframe1.dropna(inplace=True) \n",
    "dataframe1\n",
    "# dropna - NaN değerleri siler."
   ]
  },
  {
   "cell_type": "code",
   "execution_count": 65,
   "id": "85694705",
   "metadata": {},
   "outputs": [
    {
     "name": "stdout",
     "output_type": "stream",
     "text": [
      "148.5\n"
     ]
    },
    {
     "data": {
      "text/html": [
       "<div>\n",
       "<style scoped>\n",
       "    .dataframe tbody tr th:only-of-type {\n",
       "        vertical-align: middle;\n",
       "    }\n",
       "\n",
       "    .dataframe tbody tr th {\n",
       "        vertical-align: top;\n",
       "    }\n",
       "\n",
       "    .dataframe thead th {\n",
       "        text-align: right;\n",
       "    }\n",
       "</style>\n",
       "<table border=\"1\" class=\"dataframe\">\n",
       "  <thead>\n",
       "    <tr style=\"text-align: right;\">\n",
       "      <th></th>\n",
       "      <th>name</th>\n",
       "      <th>age</th>\n",
       "      <th>note</th>\n",
       "      <th>yeni_future</th>\n",
       "      <th>bool</th>\n",
       "      <th>ortalama</th>\n",
       "    </tr>\n",
       "  </thead>\n",
       "  <tbody>\n",
       "    <tr>\n",
       "      <th>0</th>\n",
       "      <td>berk</td>\n",
       "      <td>22.0</td>\n",
       "      <td>322.0</td>\n",
       "      <td>1</td>\n",
       "      <td>True</td>\n",
       "      <td>ortalamanın üstünde</td>\n",
       "    </tr>\n",
       "    <tr>\n",
       "      <th>1</th>\n",
       "      <td>umut</td>\n",
       "      <td>27.0</td>\n",
       "      <td>191.0</td>\n",
       "      <td>2</td>\n",
       "      <td>True</td>\n",
       "      <td>ortalamanın üstünde</td>\n",
       "    </tr>\n",
       "    <tr>\n",
       "      <th>3</th>\n",
       "      <td>mert</td>\n",
       "      <td>24.0</td>\n",
       "      <td>37.0</td>\n",
       "      <td>4</td>\n",
       "      <td>True</td>\n",
       "      <td>ortalamanın altında</td>\n",
       "    </tr>\n",
       "    <tr>\n",
       "      <th>4</th>\n",
       "      <td>gizem</td>\n",
       "      <td>29.0</td>\n",
       "      <td>44.0</td>\n",
       "      <td>5</td>\n",
       "      <td>True</td>\n",
       "      <td>ortalamanın altında</td>\n",
       "    </tr>\n",
       "  </tbody>\n",
       "</table>\n",
       "</div>"
      ],
      "text/plain": [
       "    name   age   note  yeni_future  bool             ortalama\n",
       "0   berk  22.0  322.0            1  True  ortalamanın üstünde\n",
       "1   umut  27.0  191.0            2  True  ortalamanın üstünde\n",
       "3   mert  24.0   37.0            4  True  ortalamanın altında\n",
       "4  gizem  29.0   44.0            5  True  ortalamanın altında"
      ]
     },
     "execution_count": 65,
     "metadata": {},
     "output_type": "execute_result"
    }
   ],
   "source": [
    "print(dataframe1.note.mean()) #not ortalaması\n",
    "\n",
    "#ortalamanın üstünde veya altında olma durumunu döndürme\n",
    "dataframe1[\"ortalama\"]= [\"ortalamanın altında\" if dataframe1.note.mean()>each else \"ortalamanın üstünde\" for each in dataframe1.note]\n",
    "dataframe1"
   ]
  },
  {
   "cell_type": "code",
   "execution_count": 66,
   "id": "d9ae50ec",
   "metadata": {},
   "outputs": [
    {
     "data": {
      "text/plain": [
       "Index(['NAME', 'AGE', 'NOTE', 'YENI_FUTURE', 'BOOL', 'ORTALAMA'], dtype='object')"
      ]
     },
     "execution_count": 66,
     "metadata": {},
     "output_type": "execute_result"
    }
   ],
   "source": [
    "#column isimleri yeniden adlandırma\n",
    "dataframe1.columns = [each.upper() for each in dataframe1.columns]\n",
    "dataframe1.columns"
   ]
  },
  {
   "cell_type": "code",
   "execution_count": 67,
   "id": "8cc3230f",
   "metadata": {},
   "outputs": [
    {
     "data": {
      "text/html": [
       "<div>\n",
       "<style scoped>\n",
       "    .dataframe tbody tr th:only-of-type {\n",
       "        vertical-align: middle;\n",
       "    }\n",
       "\n",
       "    .dataframe tbody tr th {\n",
       "        vertical-align: top;\n",
       "    }\n",
       "\n",
       "    .dataframe thead th {\n",
       "        text-align: right;\n",
       "    }\n",
       "</style>\n",
       "<table border=\"1\" class=\"dataframe\">\n",
       "  <thead>\n",
       "    <tr style=\"text-align: right;\">\n",
       "      <th></th>\n",
       "      <th>NAME</th>\n",
       "      <th>AGE</th>\n",
       "      <th>NOTE</th>\n",
       "      <th>YENI_FUTURE</th>\n",
       "      <th>BOOL</th>\n",
       "      <th>ORTALAMA</th>\n",
       "    </tr>\n",
       "  </thead>\n",
       "  <tbody>\n",
       "    <tr>\n",
       "      <th>0</th>\n",
       "      <td>berk</td>\n",
       "      <td>22.0</td>\n",
       "      <td>322.0</td>\n",
       "      <td>1</td>\n",
       "      <td>True</td>\n",
       "      <td>ortalamanın üstünde</td>\n",
       "    </tr>\n",
       "    <tr>\n",
       "      <th>1</th>\n",
       "      <td>umut</td>\n",
       "      <td>27.0</td>\n",
       "      <td>191.0</td>\n",
       "      <td>2</td>\n",
       "      <td>True</td>\n",
       "      <td>ortalamanın üstünde</td>\n",
       "    </tr>\n",
       "    <tr>\n",
       "      <th>3</th>\n",
       "      <td>mert</td>\n",
       "      <td>24.0</td>\n",
       "      <td>37.0</td>\n",
       "      <td>4</td>\n",
       "      <td>True</td>\n",
       "      <td>ortalamanın altında</td>\n",
       "    </tr>\n",
       "    <tr>\n",
       "      <th>4</th>\n",
       "      <td>gizem</td>\n",
       "      <td>29.0</td>\n",
       "      <td>44.0</td>\n",
       "      <td>5</td>\n",
       "      <td>True</td>\n",
       "      <td>ortalamanın altında</td>\n",
       "    </tr>\n",
       "  </tbody>\n",
       "</table>\n",
       "</div>"
      ],
      "text/plain": [
       "    NAME   AGE   NOTE  YENI_FUTURE  BOOL             ORTALAMA\n",
       "0   berk  22.0  322.0            1  True  ortalamanın üstünde\n",
       "1   umut  27.0  191.0            2  True  ortalamanın üstünde\n",
       "3   mert  24.0   37.0            4  True  ortalamanın altında\n",
       "4  gizem  29.0   44.0            5  True  ortalamanın altında"
      ]
     },
     "execution_count": 67,
     "metadata": {},
     "output_type": "execute_result"
    }
   ],
   "source": [
    "dataframe1.columns = [ each.split(\" \")[0]+\"_\"+each.split(\" \")[1] if len(each.split(\" \"))>1 else each for each in dataframe1.columns]\n",
    "dataframe1"
   ]
  },
  {
   "cell_type": "code",
   "execution_count": 68,
   "id": "ca0b3d68",
   "metadata": {},
   "outputs": [
    {
     "data": {
      "text/html": [
       "<div>\n",
       "<style scoped>\n",
       "    .dataframe tbody tr th:only-of-type {\n",
       "        vertical-align: middle;\n",
       "    }\n",
       "\n",
       "    .dataframe tbody tr th {\n",
       "        vertical-align: top;\n",
       "    }\n",
       "\n",
       "    .dataframe thead th {\n",
       "        text-align: right;\n",
       "    }\n",
       "</style>\n",
       "<table border=\"1\" class=\"dataframe\">\n",
       "  <thead>\n",
       "    <tr style=\"text-align: right;\">\n",
       "      <th></th>\n",
       "      <th>NAME</th>\n",
       "      <th>AGE</th>\n",
       "      <th>NOTE</th>\n",
       "      <th>YENI_FUTURE</th>\n",
       "      <th>BOOL</th>\n",
       "      <th>ORTALAMA</th>\n",
       "    </tr>\n",
       "  </thead>\n",
       "  <tbody>\n",
       "    <tr>\n",
       "      <th>0</th>\n",
       "      <td>berk</td>\n",
       "      <td>22.0</td>\n",
       "      <td>322.0</td>\n",
       "      <td>1</td>\n",
       "      <td>True</td>\n",
       "      <td>ortalamanın üstünde</td>\n",
       "    </tr>\n",
       "    <tr>\n",
       "      <th>1</th>\n",
       "      <td>umut</td>\n",
       "      <td>27.0</td>\n",
       "      <td>191.0</td>\n",
       "      <td>2</td>\n",
       "      <td>True</td>\n",
       "      <td>ortalamanın üstünde</td>\n",
       "    </tr>\n",
       "    <tr>\n",
       "      <th>3</th>\n",
       "      <td>mert</td>\n",
       "      <td>24.0</td>\n",
       "      <td>37.0</td>\n",
       "      <td>4</td>\n",
       "      <td>True</td>\n",
       "      <td>ortalamanın altında</td>\n",
       "    </tr>\n",
       "    <tr>\n",
       "      <th>4</th>\n",
       "      <td>gizem</td>\n",
       "      <td>29.0</td>\n",
       "      <td>44.0</td>\n",
       "      <td>5</td>\n",
       "      <td>True</td>\n",
       "      <td>ortalamanın altında</td>\n",
       "    </tr>\n",
       "    <tr>\n",
       "      <th>0</th>\n",
       "      <td>berk</td>\n",
       "      <td>22.0</td>\n",
       "      <td>322.0</td>\n",
       "      <td>1</td>\n",
       "      <td>True</td>\n",
       "      <td>ortalamanın üstünde</td>\n",
       "    </tr>\n",
       "    <tr>\n",
       "      <th>1</th>\n",
       "      <td>umut</td>\n",
       "      <td>27.0</td>\n",
       "      <td>191.0</td>\n",
       "      <td>2</td>\n",
       "      <td>True</td>\n",
       "      <td>ortalamanın üstünde</td>\n",
       "    </tr>\n",
       "    <tr>\n",
       "      <th>3</th>\n",
       "      <td>mert</td>\n",
       "      <td>24.0</td>\n",
       "      <td>37.0</td>\n",
       "      <td>4</td>\n",
       "      <td>True</td>\n",
       "      <td>ortalamanın altında</td>\n",
       "    </tr>\n",
       "    <tr>\n",
       "      <th>4</th>\n",
       "      <td>gizem</td>\n",
       "      <td>29.0</td>\n",
       "      <td>44.0</td>\n",
       "      <td>5</td>\n",
       "      <td>True</td>\n",
       "      <td>ortalamanın altında</td>\n",
       "    </tr>\n",
       "  </tbody>\n",
       "</table>\n",
       "</div>"
      ],
      "text/plain": [
       "    NAME   AGE   NOTE  YENI_FUTURE  BOOL             ORTALAMA\n",
       "0   berk  22.0  322.0            1  True  ortalamanın üstünde\n",
       "1   umut  27.0  191.0            2  True  ortalamanın üstünde\n",
       "3   mert  24.0   37.0            4  True  ortalamanın altında\n",
       "4  gizem  29.0   44.0            5  True  ortalamanın altında\n",
       "0   berk  22.0  322.0            1  True  ortalamanın üstünde\n",
       "1   umut  27.0  191.0            2  True  ortalamanın üstünde\n",
       "3   mert  24.0   37.0            4  True  ortalamanın altında\n",
       "4  gizem  29.0   44.0            5  True  ortalamanın altında"
      ]
     },
     "execution_count": 68,
     "metadata": {},
     "output_type": "execute_result"
    }
   ],
   "source": [
    "data1 = dataframe1.head()     \n",
    "data2 = dataframe1.tail()\n",
    "data_concat = pd.concat([data1,data2],axis=0)\n",
    "data_concat"
   ]
  },
  {
   "cell_type": "code",
   "execution_count": 69,
   "id": "23a408c4",
   "metadata": {},
   "outputs": [
    {
     "data": {
      "text/html": [
       "<div>\n",
       "<style scoped>\n",
       "    .dataframe tbody tr th:only-of-type {\n",
       "        vertical-align: middle;\n",
       "    }\n",
       "\n",
       "    .dataframe tbody tr th {\n",
       "        vertical-align: top;\n",
       "    }\n",
       "\n",
       "    .dataframe thead th {\n",
       "        text-align: right;\n",
       "    }\n",
       "</style>\n",
       "<table border=\"1\" class=\"dataframe\">\n",
       "  <thead>\n",
       "    <tr style=\"text-align: right;\">\n",
       "      <th></th>\n",
       "      <th>NAME</th>\n",
       "      <th>AGE</th>\n",
       "      <th>NOTE</th>\n",
       "      <th>YENI_FUTURE</th>\n",
       "      <th>BOOL</th>\n",
       "      <th>ORTALAMA</th>\n",
       "      <th>buyuk_yas</th>\n",
       "    </tr>\n",
       "  </thead>\n",
       "  <tbody>\n",
       "    <tr>\n",
       "      <th>0</th>\n",
       "      <td>berk</td>\n",
       "      <td>22.0</td>\n",
       "      <td>322.0</td>\n",
       "      <td>1</td>\n",
       "      <td>True</td>\n",
       "      <td>ortalamanın üstünde</td>\n",
       "      <td>44.0</td>\n",
       "    </tr>\n",
       "    <tr>\n",
       "      <th>1</th>\n",
       "      <td>umut</td>\n",
       "      <td>27.0</td>\n",
       "      <td>191.0</td>\n",
       "      <td>2</td>\n",
       "      <td>True</td>\n",
       "      <td>ortalamanın üstünde</td>\n",
       "      <td>54.0</td>\n",
       "    </tr>\n",
       "    <tr>\n",
       "      <th>3</th>\n",
       "      <td>mert</td>\n",
       "      <td>24.0</td>\n",
       "      <td>37.0</td>\n",
       "      <td>4</td>\n",
       "      <td>True</td>\n",
       "      <td>ortalamanın altında</td>\n",
       "      <td>48.0</td>\n",
       "    </tr>\n",
       "    <tr>\n",
       "      <th>4</th>\n",
       "      <td>gizem</td>\n",
       "      <td>29.0</td>\n",
       "      <td>44.0</td>\n",
       "      <td>5</td>\n",
       "      <td>True</td>\n",
       "      <td>ortalamanın altında</td>\n",
       "      <td>58.0</td>\n",
       "    </tr>\n",
       "  </tbody>\n",
       "</table>\n",
       "</div>"
      ],
      "text/plain": [
       "    NAME   AGE   NOTE  YENI_FUTURE  BOOL             ORTALAMA  buyuk_yas\n",
       "0   berk  22.0  322.0            1  True  ortalamanın üstünde       44.0\n",
       "1   umut  27.0  191.0            2  True  ortalamanın üstünde       54.0\n",
       "3   mert  24.0   37.0            4  True  ortalamanın altında       48.0\n",
       "4  gizem  29.0   44.0            5  True  ortalamanın altında       58.0"
      ]
     },
     "execution_count": 69,
     "metadata": {},
     "output_type": "execute_result"
    }
   ],
   "source": [
    "dataframe1[\"buyuk_yas\"] = [each*2 for each in dataframe1.AGE]\n",
    "dataframe1"
   ]
  },
  {
   "cell_type": "code",
   "execution_count": 70,
   "id": "339c1b76",
   "metadata": {},
   "outputs": [
    {
     "data": {
      "text/html": [
       "<div>\n",
       "<style scoped>\n",
       "    .dataframe tbody tr th:only-of-type {\n",
       "        vertical-align: middle;\n",
       "    }\n",
       "\n",
       "    .dataframe tbody tr th {\n",
       "        vertical-align: top;\n",
       "    }\n",
       "\n",
       "    .dataframe thead th {\n",
       "        text-align: right;\n",
       "    }\n",
       "</style>\n",
       "<table border=\"1\" class=\"dataframe\">\n",
       "  <thead>\n",
       "    <tr style=\"text-align: right;\">\n",
       "      <th></th>\n",
       "      <th>NAME</th>\n",
       "      <th>AGE</th>\n",
       "      <th>NOTE</th>\n",
       "      <th>YENI_FUTURE</th>\n",
       "      <th>BOOL</th>\n",
       "      <th>ORTALAMA</th>\n",
       "      <th>buyuk_yas</th>\n",
       "      <th>apply_metodu</th>\n",
       "    </tr>\n",
       "  </thead>\n",
       "  <tbody>\n",
       "    <tr>\n",
       "      <th>0</th>\n",
       "      <td>berk</td>\n",
       "      <td>22.0</td>\n",
       "      <td>322.0</td>\n",
       "      <td>1</td>\n",
       "      <td>True</td>\n",
       "      <td>ortalamanın üstünde</td>\n",
       "      <td>44.0</td>\n",
       "      <td>44.0</td>\n",
       "    </tr>\n",
       "    <tr>\n",
       "      <th>1</th>\n",
       "      <td>umut</td>\n",
       "      <td>27.0</td>\n",
       "      <td>191.0</td>\n",
       "      <td>2</td>\n",
       "      <td>True</td>\n",
       "      <td>ortalamanın üstünde</td>\n",
       "      <td>54.0</td>\n",
       "      <td>54.0</td>\n",
       "    </tr>\n",
       "    <tr>\n",
       "      <th>3</th>\n",
       "      <td>mert</td>\n",
       "      <td>24.0</td>\n",
       "      <td>37.0</td>\n",
       "      <td>4</td>\n",
       "      <td>True</td>\n",
       "      <td>ortalamanın altında</td>\n",
       "      <td>48.0</td>\n",
       "      <td>48.0</td>\n",
       "    </tr>\n",
       "    <tr>\n",
       "      <th>4</th>\n",
       "      <td>gizem</td>\n",
       "      <td>29.0</td>\n",
       "      <td>44.0</td>\n",
       "      <td>5</td>\n",
       "      <td>True</td>\n",
       "      <td>ortalamanın altında</td>\n",
       "      <td>58.0</td>\n",
       "      <td>58.0</td>\n",
       "    </tr>\n",
       "  </tbody>\n",
       "</table>\n",
       "</div>"
      ],
      "text/plain": [
       "    NAME   AGE   NOTE  YENI_FUTURE  BOOL             ORTALAMA  buyuk_yas  \\\n",
       "0   berk  22.0  322.0            1  True  ortalamanın üstünde       44.0   \n",
       "1   umut  27.0  191.0            2  True  ortalamanın üstünde       54.0   \n",
       "3   mert  24.0   37.0            4  True  ortalamanın altında       48.0   \n",
       "4  gizem  29.0   44.0            5  True  ortalamanın altında       58.0   \n",
       "\n",
       "   apply_metodu  \n",
       "0          44.0  \n",
       "1          54.0  \n",
       "3          48.0  \n",
       "4          58.0  "
      ]
     },
     "execution_count": 70,
     "metadata": {},
     "output_type": "execute_result"
    }
   ],
   "source": [
    "def mlt(yas):\n",
    "    return yas*2\n",
    "dataframe1[\"apply_metodu\"] = dataframe1.AGE.apply(mlt)\n",
    "dataframe1"
   ]
  },
  {
   "cell_type": "code",
   "execution_count": 71,
   "id": "b6e25251",
   "metadata": {},
   "outputs": [
    {
     "data": {
      "image/png": "[encoded data removed]",
      "text/plain": [
       "<Figure size 640x480 with 1 Axes>"
      ]
     },
     "metadata": {},
     "output_type": "display_data"
    }
   ],
   "source": [
    "import matplotlib.pyplot as plt \n",
    "import numpy as np\n",
    "\n",
    "# Data \n",
    "x = np.arange(0, 20, 0.3)\n",
    "# [0.  0.1 0.2 0.3 0.4 0.5 ... 9.5 9.6 9.7 9.8 9.9]\n",
    "y = np.sin(x)\n",
    "\n",
    "# Graph creation\n",
    "plt.plot(x, y)\n",
    "\n",
    "# Determine chart properties\n",
    "plt.title(\"Sinüs Grafiği\")\n",
    "plt.xlabel(\"X Ekseni\")\n",
    "plt.ylabel(\"Y Ekseni\")\n",
    "\n",
    "# Show graphics\n",
    "plt.show()"
   ]
  },
  {
   "cell_type": "code",
   "execution_count": 72,
   "id": "ca48261c",
   "metadata": {},
   "outputs": [
    {
     "data": {
      "image/png": "[encoded data removed]",
      "text/plain": [
       "<Figure size 640x480 with 1 Axes>"
      ]
     },
     "metadata": {},
     "output_type": "display_data"
    }
   ],
   "source": [
    "import matplotlib.pyplot as plt\n",
    "import numpy as np\n",
    "\n",
    "# Data\n",
    "x = np.random.rand(40)\n",
    "y = np.random.rand(40)\n",
    "colors = np.random.rand(40)\n",
    "sizes = np.random.randint(40, 150, 40)\n",
    "\n",
    "# Graph creation\n",
    "plt.scatter(x, y, c=colors, s=sizes)\n",
    "\n",
    "# Determine chart properties\n",
    "plt.title(\"Point Chart\")\n",
    "plt.xlabel(\"X-axis\")\n",
    "plt.ylabel(\"Y-axis\")\n",
    "\n",
    "# Show graphics\n",
    "plt.show()"
   ]
  },
  {
   "cell_type": "code",
   "execution_count": 73,
   "id": "cf4b08e8",
   "metadata": {},
   "outputs": [
    {
     "data": {
      "image/png": "[encoded data removed]",
      "text/plain": [
       "<Figure size 640x480 with 1 Axes>"
      ]
     },
     "metadata": {},
     "output_type": "display_data"
    }
   ],
   "source": [
    "import matplotlib.pyplot as plt\n",
    "import numpy as np\n",
    "\n",
    "# Data\n",
    "x = ['A', 'B', 'C', 'D', 'E']\n",
    "y = np.random.randint(1, 20, 5)\n",
    "\n",
    "# Graph creation\n",
    "plt.bar(x, y)\n",
    "\n",
    "# Determine chart properties\n",
    "plt.title(\"Column Chart\")\n",
    "plt.xlabel(\"Categories\")\n",
    "plt.ylabel(\"Values\")\n",
    "\n",
    "# Show graphics\n",
    "plt.show()"
   ]
  },
  {
   "cell_type": "code",
   "execution_count": 74,
   "id": "c4a8a59d",
   "metadata": {},
   "outputs": [
    {
     "data": {
      "image/png": "[encoded data removed]",
      "text/plain": [
       "<Figure size 640x480 with 1 Axes>"
      ]
     },
     "metadata": {},
     "output_type": "display_data"
    }
   ],
   "source": [
    "import matplotlib.pyplot as plt\n",
    "\n",
    "# Data\n",
    "sizes = [25, 35, 5, 15, 10, 20]\n",
    "\n",
    "# Graph creation\n",
    "plt.pie(sizes)\n",
    "\n",
    "# Determine chart properties\n",
    "plt.title(\"Pie Chart\")\n",
    "\n",
    "# Show graphics\n",
    "plt.show()\n"
   ]
  },
  {
   "cell_type": "code",
   "execution_count": 75,
   "id": "12434e63",
   "metadata": {},
   "outputs": [
    {
     "data": {
      "image/png": "[encoded data removed]",
      "text/plain": [
       "<Figure size 640x480 with 1 Axes>"
      ]
     },
     "metadata": {},
     "output_type": "display_data"
    }
   ],
   "source": [
    "import matplotlib.pyplot as plt\n",
    "import numpy as np\n",
    "from mpl_toolkits.mplot3d import Axes3D\n",
    "\n",
    "# Data\n",
    "x = np.arange(-7, 7, 0.75)\n",
    "y = np.arange(-4, 4, 0.50)\n",
    "x, y = np.meshgrid(x, y)\n",
    "r = np.sqrt(x**2 + y**2)\n",
    "z = np.sin(r)\n",
    "\n",
    "# 3D graphics creation\n",
    "fig = plt.figure()\n",
    "ax = fig.add_subplot(111, projection='3d')\n",
    "\n",
    "# plotting graphics\n",
    "ax.plot_surface(x, y, z)\n",
    "\n",
    "# Determine chart properties\n",
    "ax.set_title(\"3D Graphics\")\n",
    "ax.set_xlabel(\"X axis\")\n",
    "ax.set_ylabel(\"Y axis\")\n",
    "ax.set_zlabel(\"Z axis\")\n",
    "\n",
    "# Show\n",
    "plt.show()\n"
   ]
  },
  {
   "cell_type": "code",
   "execution_count": null,
   "id": "6b63e757",
   "metadata": {},
   "outputs": [],
   "source": []
  }
 ],
 "metadata": {
  "kernelspec": {
   "display_name": "Python 3 (ipykernel)",
   "language": "python",
   "name": "python3"
  },
  "language_info": {
   "codemirror_mode": {
    "name": "ipython",
    "version": 3
   },
   "file_extension": ".py",
   "mimetype": "text/x-python",
   "name": "python",
   "nbconvert_exporter": "python",
   "pygments_lexer": "ipython3",
   "version": "3.9.13"
  }
 },
 "nbformat": 4,
 "nbformat_minor": 5
}
